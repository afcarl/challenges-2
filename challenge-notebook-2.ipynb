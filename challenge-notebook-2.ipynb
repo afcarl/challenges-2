{
 "metadata": {
  "name": "",
  "signature": "sha256:e6a63db5c0dfcf52fcd3b4f5ba3e5e463e6d3afd047ce5d349412d0937f39b1b"
 },
 "nbformat": 3,
 "nbformat_minor": 0,
 "worksheets": [
  {
   "cells": [
    {
     "cell_type": "code",
     "collapsed": false,
     "input": [
      "import pandas as pd\n",
      "import statsmodels.api as sm\n",
      "import matplotlib.pyplot as plt\n",
      "\n",
      "def fahr_to_celsius(temp_fahr):\n",
      "    \"\"\"Convert temperature from Fahrenheit to Celsius\"\"\"\n",
      "    temp_celsius = (temp_fahr - 32) * 5 / 9.0\n",
      "    return temp_celsius\n",
      "\n",
      "def analyze(data):\n",
      "    #################################### INSERT DOCSTRING HERE\n",
      "    data['temperature'] = fahr_to_celsius(data['temperature'])\n",
      "    # linear fit\n",
      "    regr_results = sm.OLS.from_formula('mosquitos ~ rainfall', data).fit()\n",
      "    parameters = regr_results.params\n",
      "    line_fit = parameters['Intercept'] + parameters['rainfall'] * data['rainfall']\n",
      "    # plotting\n",
      "    plt.plot(data['rainfall'], data['mosquitos'], '.', label=\"data\")\n",
      "    plt.plot(data['rainfall'], line_fit, 'red', label=\"fit\")\n",
      "    plt.xlabel('rainfall')\n",
      "    plt.ylabel('mosquitos')\n",
      "    plt.legend(loc='best')\n",
      "    return parameters"
     ],
     "language": "python",
     "metadata": {},
     "outputs": [],
     "prompt_number": 1
    }
   ],
   "metadata": {}
  }
 ]
}