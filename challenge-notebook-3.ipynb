{
 "metadata": {
  "name": "",
  "signature": "sha256:d6b6a889f65bb2e150a6132beb9c51d0374278bdd59753be50a642d42e76e0ff"
 },
 "nbformat": 3,
 "nbformat_minor": 0,
 "worksheets": [
  {
   "cells": [
    {
     "cell_type": "markdown",
     "metadata": {},
     "source": [
      "Add a `for` loop in the function in order to execute fitting and plotting first\n",
      "for rainfall and then for temperature.\n",
      "\n",
      "See the docstring for details on how to return the results"
     ]
    },
    {
     "cell_type": "code",
     "collapsed": false,
     "input": [
      "import pandas as pd\n",
      "import statsmodels.api as sm\n",
      "import matplotlib.pyplot as plt\n",
      "\n",
      "def fahr_to_celsius(temp_fahr):\n",
      "    \"\"\"Convert temperature from Fahrenheit to Celsius\"\"\"\n",
      "    temp_celsius = (temp_fahr - 32) * 5 / 9.0\n",
      "    return temp_celsius\n",
      "\n",
      "def analyze(data):\n",
      "    \"\"\"Perform regression analysis on mosquito data\n",
      "   \n",
      "    Performs a linear regression based on rainfall and temperature.\n",
      "    Creates two plots of the results and returns fit parameters.\n",
      "    \n",
      "    Parameters\n",
      "    ----------\n",
      "    data : pandas.Dataframe\n",
      "        Column named 'temperature', 'rainfall' and 'mosquitos'.\n",
      "            \n",
      "    Returns\n",
      "    -------\n",
      "    parameters : list of pandas.Series\n",
      "        Return a list of the fitting parameters for rainfall and temperature\n",
      "    \n",
      "    \"\"\"\n",
      "    data['temperature'] = fahr_to_celsius(data['temperature'])\n",
      "    \n",
      "    ######### ADD A FOR LOOP TO PERFORM FITTING AND PLOTTING BOTH\n",
      "    ######### FOR RAINFALL AND TEMPERATURE\n",
      "    # linear fit\n",
      "    regr_results = sm.OLS.from_formula('mosquitos ~ rainfall', data).fit()\n",
      "    parameters = regr_results.params\n",
      "    line_fit = parameters['Intercept'] + parameters['rainfall'] * data['rainfall']\n",
      "    # plotting\n",
      "    plt.plot(data['rainfall'], data['mosquitos'], '.', label=\"data\")\n",
      "    plt.plot(data['rainfall'], line_fit, 'red', label=\"fit\")\n",
      "    plt.xlabel('rainfall')\n",
      "    plt.ylabel('mosquitos')\n",
      "    plt.legend(loc='best')\n",
      "    return parameters"
     ],
     "language": "python",
     "metadata": {},
     "outputs": [],
     "prompt_number": 2
    },
    {
     "cell_type": "code",
     "collapsed": false,
     "input": [],
     "language": "python",
     "metadata": {},
     "outputs": []
    }
   ],
   "metadata": {}
  }
 ]
}